{
 "cells": [
  {
   "cell_type": "markdown",
   "metadata": {},
   "source": [
    "<font size=4> **1.Giriş** </font>"
   ]
  },
  {
   "cell_type": "markdown",
   "metadata": {},
   "source": [
    "<font size=3>**1.1. PuLP**\n",
    "<br>\n",
    "[PuLP](https://pypi.org/project/PuLP) doğrusal optimizasyon modellerini çözmeye yarayan bir python kütüphanesidir. Modelleri çözmek için varsayılan çözücü olarak cbc çözücüsünü kullanır. Ayrıca, cplex, coin ve gurobi gibi çözücüleri de kolayca çağırabilir.\n",
    "<br>\n",
    "<br>\n",
    "**Kurulum**\n",
    "<br>\n",
    "Pip aracılığıyla notebook üzerinden *!pip install pulp* komutuyla kurulabilir.</font>"
   ]
  },
  {
   "cell_type": "markdown",
   "metadata": {},
   "source": [
    "<font size=4> **1.2.PuLP Fonksiyonları 1** </font>"
   ]
  },
  {
   "cell_type": "markdown",
   "metadata": {},
   "source": [
    "<font size=3>\n",
    "    \n",
    "**1.2.1. Model Oluşturma**\n",
    "<br>\n",
    "\n",
    "PuLP'ta yeni bir problemi LpProblem() fonksiyonuyla tanımlarız. Örnek: Amaç fonksiyonu minimizasyon olan \"Problem1\"i aşağıdaki ifadeyle tanımlayabiliriz:\n",
    "\n",
    "<br>\n",
    "model = LpProblem(\"Problem1\", LpMinimize)\n",
    "<br>\n",
    "\n",
    "**1.2.2. Karar Değişkeni Tanımlama**\n",
    "<br>\n",
    "\n",
    "PuLP'ta yeni değişkenler LpVariable() fonksiyonuyla tanımlanır. 0 ile 3 arasında reel değerler alan bir x değişkenini (0 <= x <= 3)\n",
    "<br>\n",
    "\n",
    "x = LpVariable(\"x\", 0, 3)\n",
    "<br>\n",
    "\n",
    "ifadesiyle modele ekleyebiliriz.\n",
    "\n",
    "**1.2.3. Kısıt Oluşturma**\n",
    "<br>\n",
    "\n",
    "Karar değişkenlerinden kısıtlar oluşturup modele eklemek içince modelDeğişkeni+= ifadesi kullanılır. \n",
    "<br>\n",
    "model += x + y <= 2\n",
    "\n",
    "**1.2.4. Modeli Çözme**\n",
    "<br>\n",
    "\n",
    "Optimizasyon modelini varsayılan çözücü ile çözmek için solve() fonksiyonu kullanılır. \n",
    "<br>\n",
    "statu = prob.solve()\n",
    "</font>"
   ]
  },
  {
   "cell_type": "markdown",
   "metadata": {},
   "source": [
    "<font size=3> **2.1. Açık form model örneği**\n",
    "<br>\n",
    "    \n",
    "A ürününün bir asortisi 6 parça, B ürününün bir asortisiyse 5 parça ürün içeriyor. Sevkiyat kısıtı gereği bir seferde 60 adetten fazla ürün mağazaya gönderilemiyor. Magaza A ürününün bir asortisi 10 birim alan, B ürününün bir asortisiyse 20 birim alan kaplıyor. Mağazada bu ürünler için ayrılan toplam sergileme alanıysa 150 birim. Bunların yanı sıra A ürününden depoda toplam 6 asorti var. A ürününün bir asortisi 5, B ürününün bir asortisiyse 4.5 TL kar getiriyorsa, en yüksek karı veren asorti karışımını bulunuz.\n",
    "</font>"
   ]
  },
  {
   "cell_type": "code",
   "execution_count": 1,
   "metadata": {},
   "outputs": [],
   "source": [
    "from pulp import *\n",
    "# import pulp\n",
    "# from pulp import LpVariable"
   ]
  },
  {
   "cell_type": "code",
   "execution_count": 2,
   "metadata": {},
   "outputs": [
    {
     "data": {
      "text/plain": [
       "1"
      ]
     },
     "metadata": {},
     "output_type": "display_data"
    }
   ],
   "source": [
    "# Problemi tanimlama\n",
    "model = LpProblem(\"XYZ Kar En İyileştirme\", LpMaximize)\n",
    "\n",
    "# Karar degiskenleri\n",
    "X = LpVariable('A', lowBound=0, upBound=None, cat='Integer')\n",
    "Y = LpVariable('B', lowBound=0, upBound=None, cat='Integer')\n",
    "\n",
    "# Amac Fonksiyonu\n",
    "model += 5 * X + 4.5 * Y\n",
    "\n",
    "# Kisitlar\n",
    "model += 6 * X + 5 * Y <= 60\n",
    "model += 10 * X + 20 * Y <= 150\n",
    "model += X <= 6\n",
    "\n",
    "# Modeli Cozdurme\n",
    "display(model.solve())"
   ]
  },
  {
   "cell_type": "code",
   "execution_count": 5,
   "metadata": {},
   "outputs": [
    {
     "name": "stdout",
     "output_type": "stream",
     "text": [
      "A urununden gonderilecek asorti sayisi: 6.0\n",
      "B urununden gonderilecek asorti sayisi: 4.0\n"
     ]
    }
   ],
   "source": [
    "#Cozum vektoru\n",
    "print(\"A urununden gonderilecek asorti sayisi: {}\".format(X.varValue))\n",
    "print(\"B urununden gonderilecek asorti sayisi: {}\".format(Y.varValue))"
   ]
  },
  {
   "cell_type": "markdown",
   "metadata": {},
   "source": [
    "<font size=3> **2.1.1 Dictionary Veri Yapısı**\n",
    "<br>\n",
    "Dictionary, pythonda verileri depolamak ve erişmek için kullanılan bir veri yapısıdır. Üyelik kontrolündeki hızı yaklaşık olarak O(1) olduğu için, bu amaçla kullanılan en hızlı veri [yapısıdır](https://stackoverflow.com/questions/40694470/is-there-anything-faster-than-dict). PuLP kütüphanesinde, bir küme üzerinde karar değişkeni tanımlarken liste oluşturma yapısıyla (list comprehension) birlikte kullanılır. Tek anahtarlı (key) ve birden fazla anahtarlı iki kullanım örneği aşağıdaki gibidir:\n",
    "</font>"
   ]
  },
  {
   "cell_type": "code",
   "execution_count": 7,
   "metadata": {},
   "outputs": [
    {
     "data": {
      "text/plain": [
       "1000"
      ]
     },
     "metadata": {},
     "output_type": "display_data"
    }
   ],
   "source": [
    "#tek anahtarlı dictionary\n",
    "#anahtar:deger ikilileri\n",
    "d = {'T100': 1800, 'T101':1200, 'T102':1100, 'T103':1000}\n",
    "display(d['T103'])"
   ]
  },
  {
   "cell_type": "code",
   "execution_count": 8,
   "metadata": {},
   "outputs": [
    {
     "data": {
      "text/plain": [
       "'XK0'"
      ]
     },
     "metadata": {},
     "output_type": "display_data"
    }
   ],
   "source": [
    "#iki anahtarlı dictionary\n",
    "x = {('K','0'):'XK0', ('K','1'):'XK1', ('K','2'):'XK2', ('K','3'):'XK3', ('I','0'):'XI0', ('I','1'):'XI1', ('I','2'):'XI2', ('I','3'):'XI3'}\n",
    "display(x[('K','0')])"
   ]
  },
  {
   "cell_type": "markdown",
   "metadata": {},
   "source": [
    "<font size=3> **2.1.2. Liste Oluşturma (List Comprehension) Yapısı** </font>\n"
   ]
  },
  {
   "cell_type": "code",
   "execution_count": 10,
   "metadata": {},
   "outputs": [
    {
     "data": {
      "text/plain": [
       "[1, 4, 9, 16, 25]"
      ]
     },
     "metadata": {},
     "output_type": "display_data"
    }
   ],
   "source": [
    "#ex1\n",
    "display([i**2 for i in [1,2,3,4,5]])"
   ]
  },
  {
   "cell_type": "code",
   "execution_count": 11,
   "metadata": {},
   "outputs": [
    {
     "data": {
      "text/plain": [
       "[1800, 1200, 1100, 1000]"
      ]
     },
     "metadata": {},
     "output_type": "display_data"
    }
   ],
   "source": [
    "#ex2\n",
    "display([d[i] for i in ['T100', 'T101', 'T102', 'T103']])"
   ]
  },
  {
   "cell_type": "markdown",
   "metadata": {},
   "source": [
    "<font size=3> **2.2. Ulaştırma problemi**\n",
    "<br>\n",
    "L şirketi önümüzdeki ay 2 bölge deposundan 4 mağazasına yaptığı dağıtım için en ekonomik çözümü aramaktadır. Bölge depoları Konya ve İstanbulda yer almaktır. Bölge depolarından mağazalarına  </font>\n"
   ]
  },
  {
   "cell_type": "code",
   "execution_count": 5,
   "metadata": {},
   "outputs": [],
   "source": [
    "XK0 = LpVariable('XK0', lowBound=0, cat='Integer')\n",
    "XK1 = LpVariable('XK1', lowBound=0, cat='Integer')\n",
    "XK2 = LpVariable('XK2', lowBound=0, cat='Integer')\n",
    "XK3 = LpVariable('XK3', lowBound=0, cat='Integer')\n",
    "XI0 = LpVariable('XI0', lowBound=0, cat='Integer')\n",
    "XI1 = LpVariable('XI1', lowBound=0, cat='Integer')\n",
    "XI2 = LpVariable('XI2', lowBound=0, cat='Integer')\n",
    "XI3 = LpVariable('XI3', lowBound=0, cat='Integer')\n",
    "\n",
    "costs = {('Konya', 'T100'): 232, \n",
    "            ('Konya', 'T101'): 230,\n",
    "            ('Konya', 'T102'): 212,\n",
    "            ('Konya', 'T103'): 280,\n",
    "            ('Istanbul', 'T100'): 211, \n",
    "            ('Istanbul', 'T101'): 240,\n",
    "            ('Istanbul', 'T102'): 232,\n",
    "            ('Istanbul', 'T103'): 300}\n",
    "\n",
    "x = {('Konya', 'T100'): XK0, \n",
    "            ('Konya', 'T101'): XK1,\n",
    "            ('Konya', 'T102'): XK2,\n",
    "            ('Konya', 'T103'): XK3,\n",
    "            ('Istanbul', 'T100'): XI0, \t\n",
    "            ('Istanbul', 'T101'): XI1,\n",
    "            ('Istanbul', 'T102'): XI2,\n",
    "            ('Istanbul', 'T103'): XI3}"
   ]
  },
  {
   "cell_type": "code",
   "execution_count": 7,
   "metadata": {},
   "outputs": [
    {
     "data": {
      "text/plain": [
       "1"
      ]
     },
     "execution_count": 7,
     "metadata": {},
     "output_type": "execute_result"
    }
   ],
   "source": [
    "# Initialize Model\n",
    "model2 = LpProblem(\"Minimize Transportation Costs\", LpMinimize)\n",
    "\n",
    "# Build the lists and the demand dictionary\n",
    "# ranges/index\n",
    "warehouse = ['Istanbul', 'Konya']\n",
    "stores = ['T100', 'T101', 'T102', 'T103']\n",
    "store_demand = [1800, 1200, 1100, 1000]\n",
    "demand = dict(zip(stores, store_demand))\n",
    "\n",
    "# Define Objective\n",
    "model2 += lpSum([costs[(w, s)] * x[(w, s)] for s in stores for w in warehouse])\n",
    "\n",
    "# For each customer, sum warehouse shipments and set equal to customer demand\n",
    "for s in stores:\n",
    "    model2 += lpSum([x[(w, s)] for w in warehouse]) == demand[s]\n",
    "    \n",
    "# Solve Model\n",
    "model2.solve()"
   ]
  },
  {
   "cell_type": "code",
   "execution_count": 27,
   "metadata": {},
   "outputs": [
    {
     "name": "stdout",
     "output_type": "stream",
     "text": [
      "Send from Istanbul to T100 1800.0 of products\n",
      "Optimal Total Cost 1079800.0 TL\n"
     ]
    }
   ],
   "source": [
    "#Q1 How to print all of the solutions?\n",
    "print(\"Send from Istanbul to T100 {} of products\".format(XI0.varValue))\n",
    "\n",
    "#Optimal Total Cost\n",
    "print(\"Optimal Total Cost {} TL\".format(value(model.objective)))"
   ]
  },
  {
   "cell_type": "markdown",
   "metadata": {},
   "source": [
    "<font size=3>**2.2. LpVariable.dicts kullanımı ve model çıktılar**</font>"
   ]
  },
  {
   "cell_type": "code",
   "execution_count": 8,
   "metadata": {},
   "outputs": [
    {
     "data": {
      "text/plain": [
       "1"
      ]
     },
     "execution_count": 8,
     "metadata": {},
     "output_type": "execute_result"
    }
   ],
   "source": [
    "# Initialize Model\n",
    "model3 = LpProblem(\"Minimize Transportation Costs\", LpMinimize)\n",
    "\n",
    "# ranges/index\n",
    "warehouse = ['Istanbul', 'Konya']\n",
    "stores = ['T100', 'T101', 'T102', 'T103']\n",
    "store_demand = [1800, 1200, 1100, 1000]\n",
    "\n",
    "#parameters\n",
    "demand = dict(zip(stores, store_demand))\n",
    "\n",
    "# Define decision variables\n",
    "#Alternative1\n",
    "index = [(w, s) for w in warehouse for s in stores]\n",
    "x = LpVariable.dicts('num_of_shipments',index, lowBound=0, cat='Integer')\n",
    "\n",
    "#Alternative2\n",
    "#Q2 how to define in one line?\n",
    "#x = LpVariable.dicts('num_of_shipments',[(w, s) for w in warehouse for s in stores], lowBound=0, cat='Integer')\n",
    "\n",
    "# Define Objective\n",
    "model3 += lpSum([costs[(w, s)] * x[(w, s)] for s in stores for w in warehouse])\n",
    "\n",
    "# For each customer, sum warehouse shipments and set equal to customer demand\n",
    "for s in stores:\n",
    "    model2 += lpSum([x[(w, s)] for w in warehouse]) == demand[s]\n",
    "    \n",
    "# Solve Model\n",
    "model3.solve()"
   ]
  },
  {
   "cell_type": "code",
   "execution_count": 43,
   "metadata": {},
   "outputs": [],
   "source": [
    "#x[index[1]]\n",
    "#costs[index[1]]"
   ]
  },
  {
   "cell_type": "code",
   "execution_count": 10,
   "metadata": {},
   "outputs": [
    {
     "name": "stdout",
     "output_type": "stream",
     "text": [
      "Optimal\n",
      "num_of_shipments_('Istanbul',_'T100') = 0.0\n",
      "num_of_shipments_('Istanbul',_'T101') = 0.0\n",
      "num_of_shipments_('Istanbul',_'T102') = 0.0\n",
      "num_of_shipments_('Istanbul',_'T103') = 0.0\n",
      "num_of_shipments_('Konya',_'T100') = 0.0\n",
      "num_of_shipments_('Konya',_'T101') = 0.0\n",
      "num_of_shipments_('Konya',_'T102') = 0.0\n",
      "num_of_shipments_('Konya',_'T103') = 0.0\n"
     ]
    }
   ],
   "source": [
    "# Print status\n",
    "print(LpStatus[model3.status])\n",
    "\n",
    "# Print variables\n",
    "for v in model3.variables():\n",
    "    print(v.name, \"=\", v.varValue)"
   ]
  }
 ],
 "metadata": {
  "kernelspec": {
   "display_name": "Python 3",
   "language": "python",
   "name": "python3"
  },
  "language_info": {
   "codemirror_mode": {
    "name": "ipython",
    "version": 3
   },
   "file_extension": ".py",
   "mimetype": "text/x-python",
   "name": "python",
   "nbconvert_exporter": "python",
   "pygments_lexer": "ipython3",
   "version": "3.6.8"
  }
 },
 "nbformat": 4,
 "nbformat_minor": 2
}
