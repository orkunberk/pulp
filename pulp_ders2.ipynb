{
 "cells": [
  {
   "cell_type": "markdown",
   "metadata": {},
   "source": [
    "<font size=4>**1. Capacitated Facility Location Problem**</font>"
   ]
  },
  {
   "cell_type": "markdown",
   "metadata": {},
   "source": [
    "    Capacitated Facility Location Problem (CFLP) is generalization of the Simple Plant Location Problem. Each facility can produce limited quantity of products. "
   ]
  },
  {
   "cell_type": "markdown",
   "metadata": {},
   "source": [
    "<img src=\"cflp_model.png\">"
   ]
  },
  {
   "cell_type": "markdown",
   "metadata": {},
   "source": [
    "1) Bu sorudaki veri tedarik zincirini iyileştirmek isteyen bir hazır perakende satıcısından alınmıştır. Bu şirketin 5 farklı bölgedeki (USA, Germany, Japan, Brazil, and India) bölgesel talebi bilinmektedir. Ayrıca her bölgede depo işletmenin sabit maliyeti ve bölgeler arası nakliye maliyetleri de bilinmektedir. Bu şirket için talebi karşılayan en uygun kapasitedeki depoların hangi bölgelerde açılması gerektiğini bulunuz."
   ]
  },
  {
   "cell_type": "markdown",
   "metadata": {},
   "source": [
    "<font size=3>**1.1. Extended Capacitated Facility Location Problem**</font>"
   ]
  },
  {
   "cell_type": "code",
   "execution_count": 4,
   "metadata": {},
   "outputs": [],
   "source": [
    "import numpy as np\n",
    "import pandas as pd\n",
    "from pulp import *"
   ]
  },
  {
   "cell_type": "code",
   "execution_count": 5,
   "metadata": {},
   "outputs": [],
   "source": [
    "demand = pd.read_excel('capacitated_plant_location.xlsx', sheet_name='demand', index_col=0)\n",
    "var_cost = pd.read_excel('capacitated_plant_location.xlsx', sheet_name='var_cost', index_col=0)\n",
    "cap = pd.read_excel('capacitated_plant_location.xlsx', sheet_name='cap', index_col=0)\n",
    "fix_cost = pd.read_excel('capacitated_plant_location.xlsx', sheet_name='fix_cost', index_col=0)"
   ]
  },
  {
   "cell_type": "markdown",
   "metadata": {},
   "source": [
    "<font size=3>**1.1.1. Parameters**</font>"
   ]
  },
  {
   "cell_type": "code",
   "execution_count": 6,
   "metadata": {},
   "outputs": [
    {
     "data": {
      "text/html": [
       "<div>\n",
       "<style scoped>\n",
       "    .dataframe tbody tr th:only-of-type {\n",
       "        vertical-align: middle;\n",
       "    }\n",
       "\n",
       "    .dataframe tbody tr th {\n",
       "        vertical-align: top;\n",
       "    }\n",
       "\n",
       "    .dataframe thead th {\n",
       "        text-align: right;\n",
       "    }\n",
       "</style>\n",
       "<table border=\"1\" class=\"dataframe\">\n",
       "  <thead>\n",
       "    <tr style=\"text-align: right;\">\n",
       "      <th></th>\n",
       "      <th>Dmd</th>\n",
       "    </tr>\n",
       "    <tr>\n",
       "      <th>Supply_Region</th>\n",
       "      <th></th>\n",
       "    </tr>\n",
       "  </thead>\n",
       "  <tbody>\n",
       "    <tr>\n",
       "      <th>USA</th>\n",
       "      <td>2719.6</td>\n",
       "    </tr>\n",
       "    <tr>\n",
       "      <th>Germany</th>\n",
       "      <td>84.1</td>\n",
       "    </tr>\n",
       "    <tr>\n",
       "      <th>Japan</th>\n",
       "      <td>1676.8</td>\n",
       "    </tr>\n",
       "    <tr>\n",
       "      <th>Brazil</th>\n",
       "      <td>145.4</td>\n",
       "    </tr>\n",
       "    <tr>\n",
       "      <th>India</th>\n",
       "      <td>156.4</td>\n",
       "    </tr>\n",
       "  </tbody>\n",
       "</table>\n",
       "</div>"
      ],
      "text/plain": [
       "                  Dmd\n",
       "Supply_Region        \n",
       "USA            2719.6\n",
       "Germany          84.1\n",
       "Japan          1676.8\n",
       "Brazil          145.4\n",
       "India           156.4"
      ]
     },
     "metadata": {},
     "output_type": "display_data"
    },
    {
     "data": {
      "text/html": [
       "<div>\n",
       "<style scoped>\n",
       "    .dataframe tbody tr th:only-of-type {\n",
       "        vertical-align: middle;\n",
       "    }\n",
       "\n",
       "    .dataframe tbody tr th {\n",
       "        vertical-align: top;\n",
       "    }\n",
       "\n",
       "    .dataframe thead th {\n",
       "        text-align: right;\n",
       "    }\n",
       "</style>\n",
       "<table border=\"1\" class=\"dataframe\">\n",
       "  <thead>\n",
       "    <tr style=\"text-align: right;\">\n",
       "      <th></th>\n",
       "      <th>USA</th>\n",
       "      <th>Germany</th>\n",
       "      <th>Japan</th>\n",
       "      <th>Brazil</th>\n",
       "      <th>India</th>\n",
       "    </tr>\n",
       "    <tr>\n",
       "      <th>Supply_Region</th>\n",
       "      <th></th>\n",
       "      <th></th>\n",
       "      <th></th>\n",
       "      <th></th>\n",
       "      <th></th>\n",
       "    </tr>\n",
       "  </thead>\n",
       "  <tbody>\n",
       "    <tr>\n",
       "      <th>USA</th>\n",
       "      <td>6</td>\n",
       "      <td>13</td>\n",
       "      <td>20</td>\n",
       "      <td>12</td>\n",
       "      <td>17</td>\n",
       "    </tr>\n",
       "    <tr>\n",
       "      <th>Germany</th>\n",
       "      <td>13</td>\n",
       "      <td>6</td>\n",
       "      <td>14</td>\n",
       "      <td>14</td>\n",
       "      <td>13</td>\n",
       "    </tr>\n",
       "    <tr>\n",
       "      <th>Japan</th>\n",
       "      <td>20</td>\n",
       "      <td>14</td>\n",
       "      <td>3</td>\n",
       "      <td>21</td>\n",
       "      <td>9</td>\n",
       "    </tr>\n",
       "    <tr>\n",
       "      <th>Brazil</th>\n",
       "      <td>12</td>\n",
       "      <td>14</td>\n",
       "      <td>21</td>\n",
       "      <td>8</td>\n",
       "      <td>21</td>\n",
       "    </tr>\n",
       "    <tr>\n",
       "      <th>India</th>\n",
       "      <td>22</td>\n",
       "      <td>13</td>\n",
       "      <td>10</td>\n",
       "      <td>23</td>\n",
       "      <td>8</td>\n",
       "    </tr>\n",
       "  </tbody>\n",
       "</table>\n",
       "</div>"
      ],
      "text/plain": [
       "               USA  Germany  Japan  Brazil  India\n",
       "Supply_Region                                    \n",
       "USA              6       13     20      12     17\n",
       "Germany         13        6     14      14     13\n",
       "Japan           20       14      3      21      9\n",
       "Brazil          12       14     21       8     21\n",
       "India           22       13     10      23      8"
      ]
     },
     "metadata": {},
     "output_type": "display_data"
    },
    {
     "data": {
      "text/html": [
       "<div>\n",
       "<style scoped>\n",
       "    .dataframe tbody tr th:only-of-type {\n",
       "        vertical-align: middle;\n",
       "    }\n",
       "\n",
       "    .dataframe tbody tr th {\n",
       "        vertical-align: top;\n",
       "    }\n",
       "\n",
       "    .dataframe thead th {\n",
       "        text-align: right;\n",
       "    }\n",
       "</style>\n",
       "<table border=\"1\" class=\"dataframe\">\n",
       "  <thead>\n",
       "    <tr style=\"text-align: right;\">\n",
       "      <th></th>\n",
       "      <th>Low_Cap</th>\n",
       "      <th>High_Cap</th>\n",
       "    </tr>\n",
       "    <tr>\n",
       "      <th>Supply_Region</th>\n",
       "      <th></th>\n",
       "      <th></th>\n",
       "    </tr>\n",
       "  </thead>\n",
       "  <tbody>\n",
       "    <tr>\n",
       "      <th>USA</th>\n",
       "      <td>500</td>\n",
       "      <td>1500</td>\n",
       "    </tr>\n",
       "    <tr>\n",
       "      <th>Germany</th>\n",
       "      <td>500</td>\n",
       "      <td>1500</td>\n",
       "    </tr>\n",
       "    <tr>\n",
       "      <th>Japan</th>\n",
       "      <td>500</td>\n",
       "      <td>1500</td>\n",
       "    </tr>\n",
       "    <tr>\n",
       "      <th>Brazil</th>\n",
       "      <td>500</td>\n",
       "      <td>1500</td>\n",
       "    </tr>\n",
       "    <tr>\n",
       "      <th>India</th>\n",
       "      <td>500</td>\n",
       "      <td>1500</td>\n",
       "    </tr>\n",
       "  </tbody>\n",
       "</table>\n",
       "</div>"
      ],
      "text/plain": [
       "               Low_Cap  High_Cap\n",
       "Supply_Region                   \n",
       "USA                500      1500\n",
       "Germany            500      1500\n",
       "Japan              500      1500\n",
       "Brazil             500      1500\n",
       "India              500      1500"
      ]
     },
     "metadata": {},
     "output_type": "display_data"
    },
    {
     "data": {
      "text/html": [
       "<div>\n",
       "<style scoped>\n",
       "    .dataframe tbody tr th:only-of-type {\n",
       "        vertical-align: middle;\n",
       "    }\n",
       "\n",
       "    .dataframe tbody tr th {\n",
       "        vertical-align: top;\n",
       "    }\n",
       "\n",
       "    .dataframe thead th {\n",
       "        text-align: right;\n",
       "    }\n",
       "</style>\n",
       "<table border=\"1\" class=\"dataframe\">\n",
       "  <thead>\n",
       "    <tr style=\"text-align: right;\">\n",
       "      <th></th>\n",
       "      <th>Low_Cap</th>\n",
       "      <th>High_Cap</th>\n",
       "    </tr>\n",
       "    <tr>\n",
       "      <th>Supply_Region</th>\n",
       "      <th></th>\n",
       "      <th></th>\n",
       "    </tr>\n",
       "  </thead>\n",
       "  <tbody>\n",
       "    <tr>\n",
       "      <th>USA</th>\n",
       "      <td>6500</td>\n",
       "      <td>9500</td>\n",
       "    </tr>\n",
       "    <tr>\n",
       "      <th>Germany</th>\n",
       "      <td>4980</td>\n",
       "      <td>7270</td>\n",
       "    </tr>\n",
       "    <tr>\n",
       "      <th>Japan</th>\n",
       "      <td>6230</td>\n",
       "      <td>9100</td>\n",
       "    </tr>\n",
       "    <tr>\n",
       "      <th>Brazil</th>\n",
       "      <td>3230</td>\n",
       "      <td>4730</td>\n",
       "    </tr>\n",
       "    <tr>\n",
       "      <th>India</th>\n",
       "      <td>2110</td>\n",
       "      <td>3080</td>\n",
       "    </tr>\n",
       "  </tbody>\n",
       "</table>\n",
       "</div>"
      ],
      "text/plain": [
       "               Low_Cap  High_Cap\n",
       "Supply_Region                   \n",
       "USA               6500      9500\n",
       "Germany           4980      7270\n",
       "Japan             6230      9100\n",
       "Brazil            3230      4730\n",
       "India             2110      3080"
      ]
     },
     "metadata": {},
     "output_type": "display_data"
    }
   ],
   "source": [
    "display(demand)\n",
    "display(var_cost)\n",
    "display(cap)\n",
    "display(fix_cost)"
   ]
  },
  {
   "cell_type": "markdown",
   "metadata": {},
   "source": [
    "<font size=3>**1.1.2. Pandas iloc & loc**</font>"
   ]
  },
  {
   "cell_type": "code",
   "execution_count": 5,
   "metadata": {},
   "outputs": [
    {
     "data": {
      "text/plain": [
       "1500"
      ]
     },
     "execution_count": 5,
     "metadata": {},
     "output_type": "execute_result"
    }
   ],
   "source": [
    "# Pandas Loc\n",
    "cap.iloc[1,1]"
   ]
  },
  {
   "cell_type": "code",
   "execution_count": 6,
   "metadata": {},
   "outputs": [
    {
     "data": {
      "text/plain": [
       "500"
      ]
     },
     "execution_count": 6,
     "metadata": {},
     "output_type": "execute_result"
    }
   ],
   "source": [
    "cap.loc[\"USA\", \"Low_Cap\"]"
   ]
  },
  {
   "cell_type": "markdown",
   "metadata": {},
   "source": [
    "<font size=3>**1.1.3. Model**</font>"
   ]
  },
  {
   "cell_type": "code",
   "execution_count": 39,
   "metadata": {},
   "outputs": [
    {
     "data": {
      "text/plain": [
       "500"
      ]
     },
     "execution_count": 39,
     "metadata": {},
     "output_type": "execute_result"
    }
   ],
   "source": [
    "cap.loc['USA', \"Low_Cap\"]"
   ]
  },
  {
   "cell_type": "code",
   "execution_count": 51,
   "metadata": {},
   "outputs": [],
   "source": [
    "# Initialize, and Define Decision Vars.\n",
    "model = LpProblem(\"Extended Capacitated Plant Location Model\", LpMinimize)\n",
    "\n",
    "#Ranges\n",
    "wh = ['USA', 'Germany', 'Japan', 'Brazil', 'India']\n",
    "store = ['USA', 'Germany', 'Japan', 'Brazil', 'India']\n",
    "size = ['Low_Cap','High_Cap']\n",
    "\n",
    "#number of goods shipped from wh i to store j\n",
    "x = LpVariable.dicts(\"goods_\", [(i,j) for i in wh for j in store], lowBound=0, cat='Continuous')\n",
    "y = LpVariable.dicts(\"wh_\", [(i,s) for i in wh for s in size], cat='Binary')\n",
    "\n",
    "#objective function\n",
    "model += lpSum([var_cost.loc[i,j] * x[(i,j)] for i in wh for j in store]) + lpSum([fix_cost.loc[i,s] * y[(i,s)] for i in wh for s in size])\n",
    "\n",
    "#constraints\n",
    "#demand constraint\n",
    "for j in store:\n",
    "    model += lpSum([x[(i,j)] for i in wh]) == demand.loc[j]\n",
    "\n",
    "#capacity constraint\n",
    "for i in wh:\n",
    "    model += lpSum([x[(i,j)] for j in store]) - lpSum([cap.loc[i,s] * y[(i,s)] for s in size])  <= 0"
   ]
  },
  {
   "cell_type": "code",
   "execution_count": 53,
   "metadata": {},
   "outputs": [
    {
     "data": {
      "text/plain": [
       "1"
      ]
     },
     "execution_count": 53,
     "metadata": {},
     "output_type": "execute_result"
    }
   ],
   "source": [
    "#default solver\n",
    "model.solve()"
   ]
  },
  {
   "cell_type": "code",
   "execution_count": 57,
   "metadata": {},
   "outputs": [
    {
     "name": "stdout",
     "output_type": "stream",
     "text": [
      "Total Cost =  58850.899999999994\n"
     ]
    }
   ],
   "source": [
    "# Print Objective Fun. Value\n",
    "print(\"Total Cost = \", value(model.objective))"
   ]
  },
  {
   "cell_type": "code",
   "execution_count": 58,
   "metadata": {
    "scrolled": true
   },
   "outputs": [
    {
     "name": "stdout",
     "output_type": "stream",
     "text": [
      "goods__('Brazil',_'Brazil') = 145.4\n",
      "goods__('Brazil',_'Germany') = 0.0\n",
      "goods__('Brazil',_'India') = 0.0\n",
      "goods__('Brazil',_'Japan') = 0.0\n",
      "goods__('Brazil',_'USA') = 1219.6\n",
      "goods__('Germany',_'Brazil') = 0.0\n",
      "goods__('Germany',_'Germany') = 0.0\n",
      "goods__('Germany',_'India') = 0.0\n",
      "goods__('Germany',_'Japan') = 0.0\n",
      "goods__('Germany',_'USA') = 0.0\n",
      "goods__('India',_'Brazil') = 0.0\n",
      "goods__('India',_'Germany') = 84.1\n",
      "goods__('India',_'India') = 156.4\n",
      "goods__('India',_'Japan') = 176.8\n",
      "goods__('India',_'USA') = 0.0\n",
      "goods__('Japan',_'Brazil') = 0.0\n",
      "goods__('Japan',_'Germany') = 0.0\n",
      "goods__('Japan',_'India') = 0.0\n",
      "goods__('Japan',_'Japan') = 1500.0\n",
      "goods__('Japan',_'USA') = 0.0\n",
      "goods__('USA',_'Brazil') = 0.0\n",
      "goods__('USA',_'Germany') = 0.0\n",
      "goods__('USA',_'India') = 0.0\n",
      "goods__('USA',_'Japan') = 0.0\n",
      "goods__('USA',_'USA') = 1500.0\n",
      "wh__('Brazil',_'High_Cap') = 1.0\n",
      "wh__('Brazil',_'Low_Cap') = 0.0\n",
      "wh__('Germany',_'High_Cap') = 0.0\n",
      "wh__('Germany',_'Low_Cap') = 0.0\n",
      "wh__('India',_'High_Cap') = 0.0\n",
      "wh__('India',_'Low_Cap') = 1.0\n",
      "wh__('Japan',_'High_Cap') = 1.0\n",
      "wh__('Japan',_'Low_Cap') = 0.0\n",
      "wh__('USA',_'High_Cap') = 1.0\n",
      "wh__('USA',_'Low_Cap') = 0.0\n"
     ]
    }
   ],
   "source": [
    "# Print variables\n",
    "for v in model.variables():\n",
    "    print(v.name, \"=\", v.varValue)"
   ]
  },
  {
   "cell_type": "code",
   "execution_count": 7,
   "metadata": {},
   "outputs": [
    {
     "data": {
      "text/plain": [
       "1"
      ]
     },
     "execution_count": 7,
     "metadata": {},
     "output_type": "execute_result"
    }
   ],
   "source": [
    "#default solver\n",
    "model.solve()\n",
    "\n",
    "#with cplex\n",
    "model.solve(solver=CPLEX())"
   ]
  },
  {
   "cell_type": "markdown",
   "metadata": {},
   "source": [
    "<font size=4>**2. CPLEX Tools**</font>"
   ]
  },
  {
   "cell_type": "code",
   "execution_count": 8,
   "metadata": {},
   "outputs": [
    {
     "name": "stdout",
     "output_type": "stream",
     "text": [
      "C:\\Program Files\\IBM\\ILOG\\CPLEX_Studio1263\\cplex\\bin\\x64_win64\\cplex.exe\n",
      "cplex.exe\n"
     ]
    }
   ],
   "source": [
    "#status of CPLEX\n",
    "print(CPLEX().available())\n",
    "print(CPLEX().defaultPath())"
   ]
  },
  {
   "cell_type": "code",
   "execution_count": 9,
   "metadata": {},
   "outputs": [
    {
     "data": {
      "text/plain": [
       "1"
      ]
     },
     "metadata": {},
     "output_type": "display_data"
    },
    {
     "data": {
      "text/plain": [
       "1"
      ]
     },
     "metadata": {},
     "output_type": "display_data"
    }
   ],
   "source": [
    "#Solving with CPLEX\n",
    "display(CPLEX().actualSolve(model))\n",
    "display(model.solve(solver=CPLEX()))"
   ]
  },
  {
   "cell_type": "markdown",
   "metadata": {},
   "source": [
    "<font size=4>**3. Sensitivity Analysis**</font>"
   ]
  },
  {
   "cell_type": "markdown",
   "metadata": {},
   "source": [
    "2) Bu soruda bir beyaz eşya üreticisinin 4 aylık üretim planını oluşturmanız isteniyor. Aylık üretim kapasitesi, talep, üretim gideri, envanter gideri ve sabit gider d dataframe'inde veriliyor. Ayrıca, başlangıç envanteri olarak depoda 100 ürün var. \n",
    "\n",
    "En düşük masrafı sağlamak için, aylık üretim adetlerini ve her ay sonunda envanterde kaç ürün kalması gerektiğini bulunuz."
   ]
  },
  {
   "cell_type": "markdown",
   "metadata": {},
   "source": [
    "**minimize**\n",
    "20 * x_1 + 24 * x_2 + 30 * x_3 + 18 * x_4 + 5 * s_1 + 5 * s_2 + 5 * s_3 + 5 * s_4 + 80000 * y_1 + 80000 * y_2 + 80000 * y_3 + 80000 * y_4\n",
    "\n",
    "**subject to:**<br>\n",
    "C1: x_1 - s_1 = 880<br>\n",
    "C2: - 1200 y_1 + x_1 <= 0<br>\n",
    "C3: x_2 + s_1 - s_2 = 870<br>\n",
    "C4: - 1000 y_2 + x_2 <= 0<br>\n",
    "C5: x_3 + s_2 - s_3 = 850<br>\n",
    "C6: - 900 y_3 + x_3 <= 0<br>\n",
    "C7: x_4 + s_3 - s_4 = 970<br>\n",
    "C8: - 800 y_4 + x_4 <= 0<br>\n",
    "\n",
    "x, s Integer<br>\n",
    "y Binary"
   ]
  },
  {
   "cell_type": "code",
   "execution_count": 59,
   "metadata": {},
   "outputs": [],
   "source": [
    "d = pd.DataFrame(np.array([[1, 80000, 20, 5, 1200, 980], [2, 80000, 24, 5, 1000, 870], [3, 80000, 30, 5, 900, 850], [4, 80000, 18, 5, 800, 970]]), \n",
    "                 columns=['period', 'fixed_setup', 'unit_prod', 'unit_inv', 'prod_cap', 'demand'])\n",
    "d.reset_index(drop=True)\n",
    "d.set_index('period', inplace=True)\n",
    "time = [1, 2, 3, 4]"
   ]
  },
  {
   "cell_type": "code",
   "execution_count": 60,
   "metadata": {},
   "outputs": [
    {
     "data": {
      "text/html": [
       "<div>\n",
       "<style scoped>\n",
       "    .dataframe tbody tr th:only-of-type {\n",
       "        vertical-align: middle;\n",
       "    }\n",
       "\n",
       "    .dataframe tbody tr th {\n",
       "        vertical-align: top;\n",
       "    }\n",
       "\n",
       "    .dataframe thead th {\n",
       "        text-align: right;\n",
       "    }\n",
       "</style>\n",
       "<table border=\"1\" class=\"dataframe\">\n",
       "  <thead>\n",
       "    <tr style=\"text-align: right;\">\n",
       "      <th></th>\n",
       "      <th>fixed_setup</th>\n",
       "      <th>unit_prod</th>\n",
       "      <th>unit_inv</th>\n",
       "      <th>prod_cap</th>\n",
       "      <th>demand</th>\n",
       "    </tr>\n",
       "    <tr>\n",
       "      <th>period</th>\n",
       "      <th></th>\n",
       "      <th></th>\n",
       "      <th></th>\n",
       "      <th></th>\n",
       "      <th></th>\n",
       "    </tr>\n",
       "  </thead>\n",
       "  <tbody>\n",
       "    <tr>\n",
       "      <th>1</th>\n",
       "      <td>80000</td>\n",
       "      <td>20</td>\n",
       "      <td>5</td>\n",
       "      <td>1200</td>\n",
       "      <td>980</td>\n",
       "    </tr>\n",
       "    <tr>\n",
       "      <th>2</th>\n",
       "      <td>80000</td>\n",
       "      <td>24</td>\n",
       "      <td>5</td>\n",
       "      <td>1000</td>\n",
       "      <td>870</td>\n",
       "    </tr>\n",
       "    <tr>\n",
       "      <th>3</th>\n",
       "      <td>80000</td>\n",
       "      <td>30</td>\n",
       "      <td>5</td>\n",
       "      <td>900</td>\n",
       "      <td>850</td>\n",
       "    </tr>\n",
       "    <tr>\n",
       "      <th>4</th>\n",
       "      <td>80000</td>\n",
       "      <td>18</td>\n",
       "      <td>5</td>\n",
       "      <td>800</td>\n",
       "      <td>970</td>\n",
       "    </tr>\n",
       "  </tbody>\n",
       "</table>\n",
       "</div>"
      ],
      "text/plain": [
       "        fixed_setup  unit_prod  unit_inv  prod_cap  demand\n",
       "period                                                    \n",
       "1             80000         20         5      1200     980\n",
       "2             80000         24         5      1000     870\n",
       "3             80000         30         5       900     850\n",
       "4             80000         18         5       800     970"
      ]
     },
     "metadata": {},
     "output_type": "display_data"
    }
   ],
   "source": [
    "display(d)"
   ]
  },
  {
   "cell_type": "code",
   "execution_count": 76,
   "metadata": {},
   "outputs": [],
   "source": [
    "model1 = LpProblem(\"Production Planning\", LpMinimize)\n",
    "\n",
    "x = LpVariable.dicts(\"amount_produced_\", [t for t in time], lowBound=0, cat=\"Integer\")\n",
    "y = LpVariable.dicts(\"plant_on_\", [t for t in time], cat=\"Binary\")\n",
    "s = LpVariable.dicts(\"inventory_end_of_month_\", [0, 1, 2, 3, 4], lowBound=0, cat=\"Integer\")\n",
    "\n",
    "model1 += lpSum([d.loc[t,\"unit_prod\"] * x[t] + d.loc[t,\"unit_inv\"] * s[t] + d.loc[t,\"fixed_setup\"] * y[t] for t in time])\n",
    "\n",
    "s[0] = 100\n",
    "\n",
    "for t in time:\n",
    "    model1 += (s[t-1] +  x[t] - s[t] == d.loc[t,\"demand\"])\n",
    "    model1 += (x[t] <=  d.loc[t,\"prod_cap\"] * y[t])"
   ]
  },
  {
   "cell_type": "code",
   "execution_count": 84,
   "metadata": {},
   "outputs": [
    {
     "data": {
      "text/plain": [
       "1"
      ]
     },
     "execution_count": 84,
     "metadata": {},
     "output_type": "execute_result"
    }
   ],
   "source": [
    "model1.solve()"
   ]
  },
  {
   "cell_type": "markdown",
   "metadata": {},
   "source": [
    "<font size=3> **Model Status** </font>"
   ]
  },
  {
   "cell_type": "code",
   "execution_count": 85,
   "metadata": {},
   "outputs": [
    {
     "name": "stdout",
     "output_type": "stream",
     "text": [
      "Optimal\n"
     ]
    }
   ],
   "source": [
    "# Print status\n",
    "print(LpStatus[model1.status])"
   ]
  },
  {
   "cell_type": "markdown",
   "metadata": {},
   "source": [
    "<font size=3> **Objective Fun. Value** </font>"
   ]
  },
  {
   "cell_type": "code",
   "execution_count": 86,
   "metadata": {},
   "outputs": [
    {
     "name": "stdout",
     "output_type": "stream",
     "text": [
      "Total Cost =  404200.0\n"
     ]
    }
   ],
   "source": [
    "# Print Objective Fun. Value\n",
    "print(\"Total Cost = \", value(model1.objective))"
   ]
  },
  {
   "cell_type": "markdown",
   "metadata": {},
   "source": [
    "<font size=3> **Variable Values** </font>"
   ]
  },
  {
   "cell_type": "code",
   "execution_count": 87,
   "metadata": {},
   "outputs": [
    {
     "name": "stdout",
     "output_type": "stream",
     "text": [
      "amount_produced__1 = 1200.0\n",
      "amount_produced__2 = 1000.0\n",
      "amount_produced__3 = 570.0\n",
      "amount_produced__4 = 800.0\n",
      "inventory_end_of_month__1 = 320.0\n",
      "inventory_end_of_month__2 = 450.0\n",
      "inventory_end_of_month__3 = 170.0\n",
      "inventory_end_of_month__4 = 0.0\n",
      "plant_on__1 = 1.0\n",
      "plant_on__2 = 1.0\n",
      "plant_on__3 = 1.0\n",
      "plant_on__4 = 1.0\n"
     ]
    }
   ],
   "source": [
    "# Print variables\n",
    "for v in model1.variables():\n",
    "    print(v.name, \"=\", v.varValue)"
   ]
  },
  {
   "cell_type": "markdown",
   "metadata": {},
   "source": [
    "<font size=3> **Variable Values to pandas dataframe** </font>"
   ]
  },
  {
   "cell_type": "code",
   "execution_count": 91,
   "metadata": {},
   "outputs": [
    {
     "data": {
      "text/html": [
       "<div>\n",
       "<style scoped>\n",
       "    .dataframe tbody tr th:only-of-type {\n",
       "        vertical-align: middle;\n",
       "    }\n",
       "\n",
       "    .dataframe tbody tr th {\n",
       "        vertical-align: top;\n",
       "    }\n",
       "\n",
       "    .dataframe thead th {\n",
       "        text-align: right;\n",
       "    }\n",
       "</style>\n",
       "<table border=\"1\" class=\"dataframe\">\n",
       "  <thead>\n",
       "    <tr style=\"text-align: right;\">\n",
       "      <th></th>\n",
       "      <th>prod</th>\n",
       "      <th>stock</th>\n",
       "    </tr>\n",
       "  </thead>\n",
       "  <tbody>\n",
       "    <tr>\n",
       "      <th>1</th>\n",
       "      <td>1200.0</td>\n",
       "      <td>320.0</td>\n",
       "    </tr>\n",
       "    <tr>\n",
       "      <th>2</th>\n",
       "      <td>1000.0</td>\n",
       "      <td>450.0</td>\n",
       "    </tr>\n",
       "    <tr>\n",
       "      <th>3</th>\n",
       "      <td>570.0</td>\n",
       "      <td>170.0</td>\n",
       "    </tr>\n",
       "    <tr>\n",
       "      <th>4</th>\n",
       "      <td>800.0</td>\n",
       "      <td>0.0</td>\n",
       "    </tr>\n",
       "  </tbody>\n",
       "</table>\n",
       "</div>"
      ],
      "text/plain": [
       "     prod  stock\n",
       "1  1200.0  320.0\n",
       "2  1000.0  450.0\n",
       "3   570.0  170.0\n",
       "4   800.0    0.0"
      ]
     },
     "metadata": {},
     "output_type": "display_data"
    }
   ],
   "source": [
    "# Variables to pandas DF\n",
    "o = [{'prod':x[t].varValue, 'stock':s[t].varValue} for t in time]\n",
    "display(pd.DataFrame(o, index=time))"
   ]
  },
  {
   "cell_type": "markdown",
   "metadata": {},
   "source": [
    "<font size=3> **Slack Variables and Shadow Prices**</font>"
   ]
  },
  {
   "cell_type": "code",
   "execution_count": 93,
   "metadata": {},
   "outputs": [
    {
     "data": {
      "text/html": [
       "<div>\n",
       "<style scoped>\n",
       "    .dataframe tbody tr th:only-of-type {\n",
       "        vertical-align: middle;\n",
       "    }\n",
       "\n",
       "    .dataframe tbody tr th {\n",
       "        vertical-align: top;\n",
       "    }\n",
       "\n",
       "    .dataframe thead th {\n",
       "        text-align: right;\n",
       "    }\n",
       "</style>\n",
       "<table border=\"1\" class=\"dataframe\">\n",
       "  <thead>\n",
       "    <tr style=\"text-align: right;\">\n",
       "      <th></th>\n",
       "      <th>name</th>\n",
       "      <th>shadow</th>\n",
       "      <th>slack</th>\n",
       "    </tr>\n",
       "  </thead>\n",
       "  <tbody>\n",
       "    <tr>\n",
       "      <th>0</th>\n",
       "      <td>_C1</td>\n",
       "      <td>0.0</td>\n",
       "      <td>-0.0</td>\n",
       "    </tr>\n",
       "    <tr>\n",
       "      <th>1</th>\n",
       "      <td>_C2</td>\n",
       "      <td>0.0</td>\n",
       "      <td>-0.0</td>\n",
       "    </tr>\n",
       "    <tr>\n",
       "      <th>2</th>\n",
       "      <td>_C3</td>\n",
       "      <td>0.0</td>\n",
       "      <td>-0.0</td>\n",
       "    </tr>\n",
       "    <tr>\n",
       "      <th>3</th>\n",
       "      <td>_C4</td>\n",
       "      <td>0.0</td>\n",
       "      <td>-0.0</td>\n",
       "    </tr>\n",
       "    <tr>\n",
       "      <th>4</th>\n",
       "      <td>_C5</td>\n",
       "      <td>0.0</td>\n",
       "      <td>-0.0</td>\n",
       "    </tr>\n",
       "    <tr>\n",
       "      <th>5</th>\n",
       "      <td>_C6</td>\n",
       "      <td>0.0</td>\n",
       "      <td>330.0</td>\n",
       "    </tr>\n",
       "    <tr>\n",
       "      <th>6</th>\n",
       "      <td>_C7</td>\n",
       "      <td>0.0</td>\n",
       "      <td>-0.0</td>\n",
       "    </tr>\n",
       "    <tr>\n",
       "      <th>7</th>\n",
       "      <td>_C8</td>\n",
       "      <td>0.0</td>\n",
       "      <td>-0.0</td>\n",
       "    </tr>\n",
       "  </tbody>\n",
       "</table>\n",
       "</div>"
      ],
      "text/plain": [
       "  name  shadow  slack\n",
       "0  _C1     0.0   -0.0\n",
       "1  _C2     0.0   -0.0\n",
       "2  _C3     0.0   -0.0\n",
       "3  _C4     0.0   -0.0\n",
       "4  _C5     0.0   -0.0\n",
       "5  _C6     0.0  330.0\n",
       "6  _C7     0.0   -0.0\n",
       "7  _C8     0.0   -0.0"
      ]
     },
     "metadata": {},
     "output_type": "display_data"
    }
   ],
   "source": [
    "# Print the Constraint Slacks and Shadow Prices\n",
    "o = [{'name':name, 'slack':c.slack, 'shadow':c.pi} for name, c in model1.constraints.items()]\n",
    "display(pd.DataFrame(o))"
   ]
  },
  {
   "cell_type": "code",
   "execution_count": 94,
   "metadata": {
    "scrolled": true
   },
   "outputs": [
    {
     "data": {
      "text/plain": [
       "Production Planning:\n",
       "MINIMIZE\n",
       "80000*plant_on__1 + 80000*plant_on__2 + 80000*plant_on__3 + 80000*plant_on__4 + 20*prod_in_1 + 24*prod_in_2 + 30*prod_in_3 + 18*prod_in_4 + 5*stock_in_1 + 5*stock_in_2 + 5*stock_in_3 + 5*stock_in_4 + 0\n",
       "SUBJECT TO\n",
       "_C1: prod_in_1 - stock_in_1 = 880\n",
       "\n",
       "_C2: - 1200 plant_on__1 + prod_in_1 <= 0\n",
       "\n",
       "_C3: prod_in_2 + stock_in_1 - stock_in_2 = 870\n",
       "\n",
       "_C4: - 1000 plant_on__2 + prod_in_2 <= 0\n",
       "\n",
       "_C5: prod_in_3 + stock_in_2 - stock_in_3 = 850\n",
       "\n",
       "_C6: - 900 plant_on__3 + prod_in_3 <= 0\n",
       "\n",
       "_C7: prod_in_4 + stock_in_3 - stock_in_4 = 970\n",
       "\n",
       "_C8: - 800 plant_on__4 + prod_in_4 <= 0\n",
       "\n",
       "VARIABLES\n",
       "0 <= plant_on__1 <= 1 Integer\n",
       "0 <= plant_on__2 <= 1 Integer\n",
       "0 <= plant_on__3 <= 1 Integer\n",
       "0 <= plant_on__4 <= 1 Integer\n",
       "0 <= prod_in_1 Integer\n",
       "0 <= prod_in_2 Integer\n",
       "0 <= prod_in_3 Integer\n",
       "0 <= prod_in_4 Integer\n",
       "0 <= stock_in_1 Integer\n",
       "0 <= stock_in_2 Integer\n",
       "0 <= stock_in_3 Integer\n",
       "0 <= stock_in_4 Integer"
      ]
     },
     "execution_count": 94,
     "metadata": {},
     "output_type": "execute_result"
    }
   ],
   "source": [
    "model"
   ]
  }
 ],
 "metadata": {
  "kernelspec": {
   "display_name": "Python 3",
   "language": "python",
   "name": "python3"
  },
  "language_info": {
   "codemirror_mode": {
    "name": "ipython",
    "version": 3
   },
   "file_extension": ".py",
   "mimetype": "text/x-python",
   "name": "python",
   "nbconvert_exporter": "python",
   "pygments_lexer": "ipython3",
   "version": "3.7.3"
  }
 },
 "nbformat": 4,
 "nbformat_minor": 2
}
